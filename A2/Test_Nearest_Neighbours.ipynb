{
 "cells": [
  {
   "cell_type": "markdown",
   "metadata": {},
   "source": [
    "## Flatten the matrix of domains into an array\n",
    "Make two copies of the array, one which is shifted to the right, and one which is shifted to the left. "
   ]
  },
  {
   "cell_type": "code",
   "execution_count": 168,
   "metadata": {
    "collapsed": false,
    "scrolled": true
   },
   "outputs": [
    {
     "name": "stdout",
     "output_type": "stream",
     "text": [
      "[0, 1, 2, 3, 4, 5, 6, 7, 8]\n"
     ]
    }
   ],
   "source": [
    "a = range(9)\n",
    "print a"
   ]
  },
  {
   "cell_type": "code",
   "execution_count": 169,
   "metadata": {
    "collapsed": false
   },
   "outputs": [
    {
     "name": "stdout",
     "output_type": "stream",
     "text": [
      "[8, 0, 1, 2, 3, 4, 5, 6, 7]\n"
     ]
    }
   ],
   "source": [
    "shift_left = [8,0,1,2,3,4,5,6,7]\n",
    "print shift_left"
   ]
  },
  {
   "cell_type": "code",
   "execution_count": 170,
   "metadata": {
    "collapsed": false
   },
   "outputs": [
    {
     "name": "stdout",
     "output_type": "stream",
     "text": [
      "[1, 2, 3, 4, 5, 6, 7, 8, 0]\n"
     ]
    }
   ],
   "source": [
    "shift_right = [1,2,3,4,5,6,7,8,0]\n",
    "print shift_right"
   ]
  },
  {
   "cell_type": "markdown",
   "metadata": {},
   "source": [
    "## Nearest Neighbours Function\n",
    "Here there are 4 if statements which make checks along the edges of the domain matrix. "
   ]
  },
  {
   "cell_type": "code",
   "execution_count": 7,
   "metadata": {
    "collapsed": false
   },
   "outputs": [],
   "source": [
    "def nnCheck(i,d,s): \n",
    "    mm = i\n",
    "\n",
    "    # Check right edge, else move one space\n",
    "    if i%d == (d-1):\n",
    "        tr = shift_left[(i+d-s)%len(a)]\n",
    "        br = shift_left[(i-d-s)%len(a)]\n",
    "        mr = shift_left[(i-s)%len(a)]  \n",
    "    else: \n",
    "        mr = a[(i+1)%len(a)] \n",
    "        tr = a[(i+d+1)%len(a)]\n",
    "        br = a[(i-d+1)%len(a)]\n",
    "\n",
    "\n",
    "    # Check left edge, else move one space\n",
    "    if i%d == 0:\n",
    "        tl = shift_right[(i+d+s)%len(a)]\n",
    "        bl = shift_right[(i-d+s)%len(a)]\n",
    "        ml = shift_right[(i+s)%len(a)]\n",
    "    else: \n",
    "        ml = a[(i-1)%len(a)]\n",
    "        tl = a[(i+d-1)%len(a)]\n",
    "        bl = a[(i-d-1)%len(a)]\n",
    "    \n",
    "    # Check top edge\n",
    "    if float(i)/float(d) >= 2:\n",
    "        tm = shift_right[(i+d-1)%len(a)]\n",
    "    else: tm = a[(i+d)%len(a)]\n",
    "        \n",
    "    # Check bottom edge\n",
    "    if float(i)/float(d) < 1:\n",
    "        bm = shift_left[(i-(d-1))%len(a)]\n",
    "    else: bm = a[(i-d)%len(a)]\n",
    "    \n",
    "    print '\\n' \n",
    "    print \"Testing domain \", i, \"...\"\n",
    "    print '\\n'\n",
    "    print 'tl: ', tl, 'tm: ', tm, 'tr: ', tr\n",
    "    print 'ml: ', ml, 'mm: ', mm, 'mr: ', mr\n",
    "    print 'bl: ', bl, 'bm: ', bm, 'br: ', br\n",
    "    print '\\n'\n",
    "    \n"
   ]
  },
  {
   "cell_type": "markdown",
   "metadata": {},
   "source": [
    "## Test domains decomposed into 9 cells\n",
    "This for loop will pass integer i, the domain index, to the nearest neighbour function. Periodic boundaries are accounted for. "
   ]
  },
  {
   "cell_type": "code",
   "execution_count": 172,
   "metadata": {
    "collapsed": false
   },
   "outputs": [
    {
     "name": "stdout",
     "output_type": "stream",
     "text": [
      "\n",
      "\n",
      "Testing domain  0 ...\n",
      "\n",
      "\n",
      "tl:  5 tm:  3 tr:  4\n",
      "ml:  2 mm:  0 mr:  1\n",
      "bl:  8 bm:  6 br:  7\n",
      "\n",
      "\n",
      "\n",
      "\n",
      "Testing domain  1 ...\n",
      "\n",
      "\n",
      "tl:  3 tm:  4 tr:  5\n",
      "ml:  0 mm:  1 mr:  2\n",
      "bl:  6 bm:  7 br:  8\n",
      "\n",
      "\n",
      "\n",
      "\n",
      "Testing domain  2 ...\n",
      "\n",
      "\n",
      "tl:  4 tm:  5 tr:  3\n",
      "ml:  1 mm:  2 mr:  0\n",
      "bl:  7 bm:  8 br:  6\n",
      "\n",
      "\n",
      "\n",
      "\n",
      "Testing domain  3 ...\n",
      "\n",
      "\n",
      "tl:  8 tm:  6 tr:  7\n",
      "ml:  5 mm:  3 mr:  4\n",
      "bl:  2 bm:  0 br:  1\n",
      "\n",
      "\n",
      "\n",
      "\n",
      "Testing domain  4 ...\n",
      "\n",
      "\n",
      "tl:  6 tm:  7 tr:  8\n",
      "ml:  3 mm:  4 mr:  5\n",
      "bl:  0 bm:  1 br:  2\n",
      "\n",
      "\n",
      "\n",
      "\n",
      "Testing domain  5 ...\n",
      "\n",
      "\n",
      "tl:  7 tm:  8 tr:  6\n",
      "ml:  4 mm:  5 mr:  3\n",
      "bl:  1 bm:  2 br:  0\n",
      "\n",
      "\n",
      "\n",
      "\n",
      "Testing domain  6 ...\n",
      "\n",
      "\n",
      "tl:  2 tm:  0 tr:  1\n",
      "ml:  8 mm:  6 mr:  7\n",
      "bl:  5 bm:  3 br:  4\n",
      "\n",
      "\n",
      "\n",
      "\n",
      "Testing domain  7 ...\n",
      "\n",
      "\n",
      "tl:  0 tm:  1 tr:  2\n",
      "ml:  6 mm:  7 mr:  8\n",
      "bl:  3 bm:  4 br:  5\n",
      "\n",
      "\n",
      "\n",
      "\n",
      "Testing domain  8 ...\n",
      "\n",
      "\n",
      "tl:  1 tm:  2 tr:  0\n",
      "ml:  7 mm:  8 mr:  6\n",
      "bl:  4 bm:  5 br:  3\n",
      "\n",
      "\n"
     ]
    }
   ],
   "source": [
    "for i in range(len(a)):\n",
    "    d = 3\n",
    "    s = d-2\n",
    "    nnCheck(i,3,s)"
   ]
  },
  {
   "cell_type": "markdown",
   "metadata": {},
   "source": [
    "## Test Domain Decomposed into 16 Cells"
   ]
  },
  {
   "cell_type": "code",
   "execution_count": 173,
   "metadata": {
    "collapsed": false
   },
   "outputs": [
    {
     "name": "stdout",
     "output_type": "stream",
     "text": [
      "[0, 1, 2, 3, 4, 5, 6, 7, 8, 9, 10, 11, 12, 13, 14, 15]\n"
     ]
    }
   ],
   "source": [
    "a = range(16)\n",
    "print a"
   ]
  },
  {
   "cell_type": "code",
   "execution_count": 174,
   "metadata": {
    "collapsed": false
   },
   "outputs": [
    {
     "name": "stdout",
     "output_type": "stream",
     "text": [
      "[15, 0, 1, 2, 3, 4, 5, 6, 7, 8, 9, 10, 11, 12, 13, 14]\n"
     ]
    }
   ],
   "source": [
    "shift_left = [15,0,1,2,3,4,5,6,7,8,9,10,11,12,13,14]\n",
    "print shift_left"
   ]
  },
  {
   "cell_type": "code",
   "execution_count": 175,
   "metadata": {
    "collapsed": false
   },
   "outputs": [
    {
     "name": "stdout",
     "output_type": "stream",
     "text": [
      "[1, 2, 3, 4, 5, 6, 7, 8, 9, 10, 11, 12, 13, 14, 15, 0]\n"
     ]
    }
   ],
   "source": [
    "shift_right = [1,2,3,4,5,6,7,8,9,10,11,12,13,14,15,0]\n",
    "print shift_right"
   ]
  },
  {
   "cell_type": "code",
   "execution_count": 176,
   "metadata": {
    "collapsed": false
   },
   "outputs": [
    {
     "name": "stdout",
     "output_type": "stream",
     "text": [
      "\n",
      "\n",
      "Testing domain  0 ...\n",
      "\n",
      "\n",
      "tl:  7 tm:  4 tr:  5\n",
      "ml:  3 mm:  0 mr:  1\n",
      "bl:  15 bm:  12 br:  13\n",
      "\n",
      "\n",
      "\n",
      "\n",
      "Testing domain  1 ...\n",
      "\n",
      "\n",
      "tl:  4 tm:  5 tr:  6\n",
      "ml:  0 mm:  1 mr:  2\n",
      "bl:  12 bm:  13 br:  14\n",
      "\n",
      "\n",
      "\n",
      "\n",
      "Testing domain  2 ...\n",
      "\n",
      "\n",
      "tl:  5 tm:  6 tr:  7\n",
      "ml:  1 mm:  2 mr:  3\n",
      "bl:  13 bm:  14 br:  15\n",
      "\n",
      "\n",
      "\n",
      "\n",
      "Testing domain  3 ...\n",
      "\n",
      "\n",
      "tl:  6 tm:  7 tr:  4\n",
      "ml:  2 mm:  3 mr:  0\n",
      "bl:  14 bm:  15 br:  12\n",
      "\n",
      "\n",
      "\n",
      "\n",
      "Testing domain  4 ...\n",
      "\n",
      "\n",
      "tl:  11 tm:  8 tr:  9\n",
      "ml:  7 mm:  4 mr:  5\n",
      "bl:  3 bm:  0 br:  1\n",
      "\n",
      "\n",
      "\n",
      "\n",
      "Testing domain  5 ...\n",
      "\n",
      "\n",
      "tl:  8 tm:  9 tr:  10\n",
      "ml:  4 mm:  5 mr:  6\n",
      "bl:  0 bm:  1 br:  2\n",
      "\n",
      "\n",
      "\n",
      "\n",
      "Testing domain  6 ...\n",
      "\n",
      "\n",
      "tl:  9 tm:  10 tr:  11\n",
      "ml:  5 mm:  6 mr:  7\n",
      "bl:  1 bm:  2 br:  3\n",
      "\n",
      "\n",
      "\n",
      "\n",
      "Testing domain  7 ...\n",
      "\n",
      "\n",
      "tl:  10 tm:  11 tr:  8\n",
      "ml:  6 mm:  7 mr:  4\n",
      "bl:  2 bm:  3 br:  0\n",
      "\n",
      "\n",
      "\n",
      "\n",
      "Testing domain  8 ...\n",
      "\n",
      "\n",
      "tl:  15 tm:  12 tr:  13\n",
      "ml:  11 mm:  8 mr:  9\n",
      "bl:  7 bm:  4 br:  5\n",
      "\n",
      "\n",
      "\n",
      "\n",
      "Testing domain  9 ...\n",
      "\n",
      "\n",
      "tl:  12 tm:  13 tr:  14\n",
      "ml:  8 mm:  9 mr:  10\n",
      "bl:  4 bm:  5 br:  6\n",
      "\n",
      "\n",
      "\n",
      "\n",
      "Testing domain  10 ...\n",
      "\n",
      "\n",
      "tl:  13 tm:  14 tr:  15\n",
      "ml:  9 mm:  10 mr:  11\n",
      "bl:  5 bm:  6 br:  7\n",
      "\n",
      "\n",
      "\n",
      "\n",
      "Testing domain  11 ...\n",
      "\n",
      "\n",
      "tl:  14 tm:  15 tr:  12\n",
      "ml:  10 mm:  11 mr:  8\n",
      "bl:  6 bm:  7 br:  4\n",
      "\n",
      "\n",
      "\n",
      "\n",
      "Testing domain  12 ...\n",
      "\n",
      "\n",
      "tl:  3 tm:  0 tr:  1\n",
      "ml:  15 mm:  12 mr:  13\n",
      "bl:  11 bm:  8 br:  9\n",
      "\n",
      "\n",
      "\n",
      "\n",
      "Testing domain  13 ...\n",
      "\n",
      "\n",
      "tl:  0 tm:  1 tr:  2\n",
      "ml:  12 mm:  13 mr:  14\n",
      "bl:  8 bm:  9 br:  10\n",
      "\n",
      "\n",
      "\n",
      "\n",
      "Testing domain  14 ...\n",
      "\n",
      "\n",
      "tl:  1 tm:  2 tr:  3\n",
      "ml:  13 mm:  14 mr:  15\n",
      "bl:  9 bm:  10 br:  11\n",
      "\n",
      "\n",
      "\n",
      "\n",
      "Testing domain  15 ...\n",
      "\n",
      "\n",
      "tl:  2 tm:  3 tr:  0\n",
      "ml:  14 mm:  15 mr:  12\n",
      "bl:  10 bm:  11 br:  8\n",
      "\n",
      "\n"
     ]
    }
   ],
   "source": [
    "for i in range(len(a)):\n",
    "    d = 4\n",
    "    s = d-2\n",
    "    nnCheck(i,d,s)"
   ]
  },
  {
   "cell_type": "markdown",
   "metadata": {},
   "source": [
    "## Test Domain Decomposed into 25 Cells"
   ]
  },
  {
   "cell_type": "code",
   "execution_count": 177,
   "metadata": {
    "collapsed": false
   },
   "outputs": [
    {
     "name": "stdout",
     "output_type": "stream",
     "text": [
      "[0, 1, 2, 3, 4, 5, 6, 7, 8, 9, 10, 11, 12, 13, 14, 15, 16, 17, 18, 19, 20, 21, 22, 23, 24]\n"
     ]
    }
   ],
   "source": [
    "a = range(25)\n",
    "print a"
   ]
  },
  {
   "cell_type": "code",
   "execution_count": 178,
   "metadata": {
    "collapsed": false
   },
   "outputs": [
    {
     "name": "stdout",
     "output_type": "stream",
     "text": [
      "[24, 0, 1, 2, 3, 4, 5, 6, 7, 8, 9, 10, 11, 12, 13, 14, 15, 16, 17, 18, 19, 20, 21, 22, 23]\n"
     ]
    }
   ],
   "source": [
    "shift_left = [24, 0, 1, 2, 3, 4, 5, 6, 7, 8, 9, 10, 11, 12, 13, 14, 15, 16, 17, 18, 19, 20, 21, 22, 23]\n",
    "print shift_left"
   ]
  },
  {
   "cell_type": "code",
   "execution_count": 179,
   "metadata": {
    "collapsed": false
   },
   "outputs": [
    {
     "name": "stdout",
     "output_type": "stream",
     "text": [
      "[1, 2, 3, 4, 5, 6, 7, 8, 9, 10, 11, 12, 13, 14, 15, 16, 17, 18, 19, 20, 21, 22, 23, 24, 0]\n"
     ]
    }
   ],
   "source": [
    "shift_right = [1, 2, 3, 4, 5, 6, 7, 8, 9, 10, 11, 12, 13, 14, 15, 16, 17, 18, 19, 20, 21, 22, 23, 24, 0]\n",
    "print shift_right"
   ]
  },
  {
   "cell_type": "code",
   "execution_count": 180,
   "metadata": {
    "collapsed": false
   },
   "outputs": [
    {
     "name": "stdout",
     "output_type": "stream",
     "text": [
      "\n",
      "\n",
      "Testing domain  0 ...\n",
      "\n",
      "\n",
      "tl:  9 tm:  5 tr:  6\n",
      "ml:  4 mm:  0 mr:  1\n",
      "bl:  24 bm:  20 br:  21\n",
      "\n",
      "\n",
      "\n",
      "\n",
      "Testing domain  1 ...\n",
      "\n",
      "\n",
      "tl:  5 tm:  6 tr:  7\n",
      "ml:  0 mm:  1 mr:  2\n",
      "bl:  20 bm:  21 br:  22\n",
      "\n",
      "\n",
      "\n",
      "\n",
      "Testing domain  2 ...\n",
      "\n",
      "\n",
      "tl:  6 tm:  7 tr:  8\n",
      "ml:  1 mm:  2 mr:  3\n",
      "bl:  21 bm:  22 br:  23\n",
      "\n",
      "\n",
      "\n",
      "\n",
      "Testing domain  3 ...\n",
      "\n",
      "\n",
      "tl:  7 tm:  8 tr:  9\n",
      "ml:  2 mm:  3 mr:  4\n",
      "bl:  22 bm:  23 br:  24\n",
      "\n",
      "\n",
      "\n",
      "\n",
      "Testing domain  4 ...\n",
      "\n",
      "\n",
      "tl:  8 tm:  9 tr:  5\n",
      "ml:  3 mm:  4 mr:  0\n",
      "bl:  23 bm:  24 br:  20\n",
      "\n",
      "\n",
      "\n",
      "\n",
      "Testing domain  5 ...\n",
      "\n",
      "\n",
      "tl:  14 tm:  10 tr:  11\n",
      "ml:  9 mm:  5 mr:  6\n",
      "bl:  4 bm:  0 br:  1\n",
      "\n",
      "\n",
      "\n",
      "\n",
      "Testing domain  6 ...\n",
      "\n",
      "\n",
      "tl:  10 tm:  11 tr:  12\n",
      "ml:  5 mm:  6 mr:  7\n",
      "bl:  0 bm:  1 br:  2\n",
      "\n",
      "\n",
      "\n",
      "\n",
      "Testing domain  7 ...\n",
      "\n",
      "\n",
      "tl:  11 tm:  12 tr:  13\n",
      "ml:  6 mm:  7 mr:  8\n",
      "bl:  1 bm:  2 br:  3\n",
      "\n",
      "\n",
      "\n",
      "\n",
      "Testing domain  8 ...\n",
      "\n",
      "\n",
      "tl:  12 tm:  13 tr:  14\n",
      "ml:  7 mm:  8 mr:  9\n",
      "bl:  2 bm:  3 br:  4\n",
      "\n",
      "\n",
      "\n",
      "\n",
      "Testing domain  9 ...\n",
      "\n",
      "\n",
      "tl:  13 tm:  14 tr:  10\n",
      "ml:  8 mm:  9 mr:  5\n",
      "bl:  3 bm:  4 br:  0\n",
      "\n",
      "\n",
      "\n",
      "\n",
      "Testing domain  10 ...\n",
      "\n",
      "\n",
      "tl:  19 tm:  15 tr:  16\n",
      "ml:  14 mm:  10 mr:  11\n",
      "bl:  9 bm:  5 br:  6\n",
      "\n",
      "\n",
      "\n",
      "\n",
      "Testing domain  11 ...\n",
      "\n",
      "\n",
      "tl:  15 tm:  16 tr:  17\n",
      "ml:  10 mm:  11 mr:  12\n",
      "bl:  5 bm:  6 br:  7\n",
      "\n",
      "\n",
      "\n",
      "\n",
      "Testing domain  12 ...\n",
      "\n",
      "\n",
      "tl:  16 tm:  17 tr:  18\n",
      "ml:  11 mm:  12 mr:  13\n",
      "bl:  6 bm:  7 br:  8\n",
      "\n",
      "\n",
      "\n",
      "\n",
      "Testing domain  13 ...\n",
      "\n",
      "\n",
      "tl:  17 tm:  18 tr:  19\n",
      "ml:  12 mm:  13 mr:  14\n",
      "bl:  7 bm:  8 br:  9\n",
      "\n",
      "\n",
      "\n",
      "\n",
      "Testing domain  14 ...\n",
      "\n",
      "\n",
      "tl:  18 tm:  19 tr:  15\n",
      "ml:  13 mm:  14 mr:  10\n",
      "bl:  8 bm:  9 br:  5\n",
      "\n",
      "\n",
      "\n",
      "\n",
      "Testing domain  15 ...\n",
      "\n",
      "\n",
      "tl:  24 tm:  20 tr:  21\n",
      "ml:  19 mm:  15 mr:  16\n",
      "bl:  14 bm:  10 br:  11\n",
      "\n",
      "\n",
      "\n",
      "\n",
      "Testing domain  16 ...\n",
      "\n",
      "\n",
      "tl:  20 tm:  21 tr:  22\n",
      "ml:  15 mm:  16 mr:  17\n",
      "bl:  10 bm:  11 br:  12\n",
      "\n",
      "\n",
      "\n",
      "\n",
      "Testing domain  17 ...\n",
      "\n",
      "\n",
      "tl:  21 tm:  22 tr:  23\n",
      "ml:  16 mm:  17 mr:  18\n",
      "bl:  11 bm:  12 br:  13\n",
      "\n",
      "\n",
      "\n",
      "\n",
      "Testing domain  18 ...\n",
      "\n",
      "\n",
      "tl:  22 tm:  23 tr:  24\n",
      "ml:  17 mm:  18 mr:  19\n",
      "bl:  12 bm:  13 br:  14\n",
      "\n",
      "\n",
      "\n",
      "\n",
      "Testing domain  19 ...\n",
      "\n",
      "\n",
      "tl:  23 tm:  24 tr:  20\n",
      "ml:  18 mm:  19 mr:  15\n",
      "bl:  13 bm:  14 br:  10\n",
      "\n",
      "\n",
      "\n",
      "\n",
      "Testing domain  20 ...\n",
      "\n",
      "\n",
      "tl:  4 tm:  0 tr:  1\n",
      "ml:  24 mm:  20 mr:  21\n",
      "bl:  19 bm:  15 br:  16\n",
      "\n",
      "\n",
      "\n",
      "\n",
      "Testing domain  21 ...\n",
      "\n",
      "\n",
      "tl:  0 tm:  1 tr:  2\n",
      "ml:  20 mm:  21 mr:  22\n",
      "bl:  15 bm:  16 br:  17\n",
      "\n",
      "\n",
      "\n",
      "\n",
      "Testing domain  22 ...\n",
      "\n",
      "\n",
      "tl:  1 tm:  2 tr:  3\n",
      "ml:  21 mm:  22 mr:  23\n",
      "bl:  16 bm:  17 br:  18\n",
      "\n",
      "\n",
      "\n",
      "\n",
      "Testing domain  23 ...\n",
      "\n",
      "\n",
      "tl:  2 tm:  3 tr:  4\n",
      "ml:  22 mm:  23 mr:  24\n",
      "bl:  17 bm:  18 br:  19\n",
      "\n",
      "\n",
      "\n",
      "\n",
      "Testing domain  24 ...\n",
      "\n",
      "\n",
      "tl:  3 tm:  4 tr:  0\n",
      "ml:  23 mm:  24 mr:  20\n",
      "bl:  18 bm:  19 br:  15\n",
      "\n",
      "\n"
     ]
    }
   ],
   "source": [
    "for i in range(len(a)):\n",
    "    d = 5\n",
    "    s = d-2\n",
    "    nnCheck(i,d,s)"
   ]
  },
  {
   "cell_type": "code",
   "execution_count": 1,
   "metadata": {
    "collapsed": true
   },
   "outputs": [],
   "source": [
    "a = [0,1,2,3]"
   ]
  },
  {
   "cell_type": "code",
   "execution_count": 2,
   "metadata": {
    "collapsed": true
   },
   "outputs": [],
   "source": [
    "shift_left=[3,0,1,2]"
   ]
  },
  {
   "cell_type": "code",
   "execution_count": 3,
   "metadata": {
    "collapsed": true
   },
   "outputs": [],
   "source": [
    "shift_right=[1,2,3,4]"
   ]
  },
  {
   "cell_type": "code",
   "execution_count": 8,
   "metadata": {
    "collapsed": false
   },
   "outputs": [
    {
     "name": "stdout",
     "output_type": "stream",
     "text": [
      "\n",
      "\n",
      "Testing domain  0 ...\n",
      "\n",
      "\n",
      "tl:  3 tm:  2 tr:  3\n",
      "ml:  1 mm:  0 mr:  1\n",
      "bl:  3 bm:  2 br:  3\n",
      "\n",
      "\n",
      "\n",
      "\n",
      "Testing domain  1 ...\n",
      "\n",
      "\n",
      "tl:  2 tm:  3 tr:  2\n",
      "ml:  0 mm:  1 mr:  0\n",
      "bl:  2 bm:  3 br:  2\n",
      "\n",
      "\n",
      "\n",
      "\n",
      "Testing domain  2 ...\n",
      "\n",
      "\n",
      "tl:  1 tm:  0 tr:  1\n",
      "ml:  3 mm:  2 mr:  3\n",
      "bl:  1 bm:  0 br:  1\n",
      "\n",
      "\n",
      "\n",
      "\n",
      "Testing domain  3 ...\n",
      "\n",
      "\n",
      "tl:  0 tm:  1 tr:  0\n",
      "ml:  2 mm:  3 mr:  2\n",
      "bl:  0 bm:  1 br:  0\n",
      "\n",
      "\n"
     ]
    }
   ],
   "source": [
    "for i in range(len(a)):\n",
    "    d = 2\n",
    "    s = d-2\n",
    "    nnCheck(i,d,s)"
   ]
  }
 ],
 "metadata": {
  "kernelspec": {
   "display_name": "Python 2",
   "language": "python",
   "name": "python2"
  },
  "language_info": {
   "codemirror_mode": {
    "name": "ipython",
    "version": 2
   },
   "file_extension": ".py",
   "mimetype": "text/x-python",
   "name": "python",
   "nbconvert_exporter": "python",
   "pygments_lexer": "ipython2",
   "version": "2.7.11"
  }
 },
 "nbformat": 4,
 "nbformat_minor": 0
}
